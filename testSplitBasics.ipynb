{
  "nbformat": 4,
  "nbformat_minor": 0,
  "metadata": {
    "colab": {
      "provenance": [],
      "authorship_tag": "ABX9TyM0yt+Eexg3+i4Wmje9zR+x",
      "include_colab_link": true
    },
    "kernelspec": {
      "name": "python3",
      "display_name": "Python 3"
    },
    "language_info": {
      "name": "python"
    }
  },
  "cells": [
    {
      "cell_type": "markdown",
      "metadata": {
        "id": "view-in-github",
        "colab_type": "text"
      },
      "source": [
        "<a href=\"https://colab.research.google.com/github/dominiksakic/deeplearning00/blob/main/testSplitBasics.ipynb\" target=\"_parent\"><img src=\"https://colab.research.google.com/assets/colab-badge.svg\" alt=\"Open In Colab\"/></a>"
      ]
    },
    {
      "cell_type": "code",
      "execution_count": 16,
      "metadata": {
        "colab": {
          "base_uri": "https://localhost:8080/",
          "height": 218
        },
        "id": "-Cp49bMTegB_",
        "outputId": "d4e71f31-81c4-46d1-b09c-069b57c6d173"
      },
      "outputs": [
        {
          "output_type": "display_data",
          "data": {
            "text/plain": [
              "<Figure size 600x150 with 1 Axes>"
            ],
            "image/png": "[encoded data removed]"
          },
          "metadata": {}
        }
      ],
      "source": [
        "import numpy as np\n",
        "import matplotlib.pyplot as plt\n",
        "\n",
        "\n",
        "#Sample Data\n",
        "x = np.random.rand(100,2)\n",
        "y = np.random.randint(0, 2, 100)\n",
        "\n",
        "training_data = x[:80]\n",
        "training_target = y[:80]\n",
        "\n",
        "validation_data = x[80:]\n",
        "validation_target = y[80:]\n",
        "\n",
        "train_size = len(training_data)\n",
        "test_size = len(validation_data)\n",
        "\n",
        "# Create the bar chart\n",
        "plt.figure(figsize=(6, 1.5))\n",
        "plt.barh(0, [train_size], color='blue', label='Training Data', height=0.5)\n",
        "plt.barh(0, [test_size], left=[train_size], color='orange', label='Validation Data', height=0.5)\n",
        "\n",
        "# Add labels and title\n",
        "plt.xlabel('Percentage')\n",
        "plt.title('Train-Test Split Visualization')\n",
        "plt.yticks([])\n",
        "plt.legend()\n",
        "\n",
        "\n",
        "plt.show()"
      ]
    },
    {
      "cell_type": "code",
      "source": [],
      "metadata": {
        "colab": {
          "base_uri": "https://localhost:8080/"
        },
        "id": "hPs22evlfQp7",
        "outputId": "99797482-dbe1-4499-f0c5-14f3e225dabf"
      },
      "execution_count": 5,
      "outputs": [
        {
          "output_type": "execute_result",
          "data": {
            "text/plain": [
              "1"
            ]
          },
          "metadata": {},
          "execution_count": 5
        }
      ]
    }
  ]
}